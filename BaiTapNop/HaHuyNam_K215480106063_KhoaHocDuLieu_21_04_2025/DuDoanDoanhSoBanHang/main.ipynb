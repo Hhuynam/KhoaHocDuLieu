{
 "cells": [
  {
   "cell_type": "code",
   "execution_count": 23,
   "id": "53cac3c3",
   "metadata": {},
   "outputs": [
    {
     "name": "stdout",
     "output_type": "stream",
     "text": [
      "Requirement already satisfied: pandas in d:\\hocky3_2024_2025\\khoahocdulieu\\baitapnop\\hahuynam_k215480106063_khoahocdulieu_21_04_2025\\.venv\\lib\\site-packages (2.2.3)\n",
      "Requirement already satisfied: numpy>=1.22.4 in d:\\hocky3_2024_2025\\khoahocdulieu\\baitapnop\\hahuynam_k215480106063_khoahocdulieu_21_04_2025\\.venv\\lib\\site-packages (from pandas) (2.0.2)\n",
      "Requirement already satisfied: python-dateutil>=2.8.2 in d:\\hocky3_2024_2025\\khoahocdulieu\\baitapnop\\hahuynam_k215480106063_khoahocdulieu_21_04_2025\\.venv\\lib\\site-packages (from pandas) (2.9.0.post0)\n",
      "Requirement already satisfied: pytz>=2020.1 in d:\\hocky3_2024_2025\\khoahocdulieu\\baitapnop\\hahuynam_k215480106063_khoahocdulieu_21_04_2025\\.venv\\lib\\site-packages (from pandas) (2025.2)\n",
      "Requirement already satisfied: tzdata>=2022.7 in d:\\hocky3_2024_2025\\khoahocdulieu\\baitapnop\\hahuynam_k215480106063_khoahocdulieu_21_04_2025\\.venv\\lib\\site-packages (from pandas) (2025.2)\n",
      "Requirement already satisfied: six>=1.5 in d:\\hocky3_2024_2025\\khoahocdulieu\\baitapnop\\hahuynam_k215480106063_khoahocdulieu_21_04_2025\\.venv\\lib\\site-packages (from python-dateutil>=2.8.2->pandas) (1.17.0)\n",
      "Note: you may need to restart the kernel to use updated packages.\n"
     ]
    }
   ],
   "source": [
    "#0.Tai va su dung pandas\n",
    "%pip install pandas\n",
    "import pandas as pd"
   ]
  },
  {
   "cell_type": "code",
   "execution_count": 24,
   "id": "c0d5cc75",
   "metadata": {},
   "outputs": [
    {
     "name": "stdout",
     "output_type": "stream",
     "text": [
      "<class 'pandas.core.frame.DataFrame'>\n",
      "RangeIndex: 200 entries, 0 to 199\n",
      "Data columns (total 4 columns):\n",
      " #   Column     Non-Null Count  Dtype  \n",
      "---  ------     --------------  -----  \n",
      " 0   TV         200 non-null    float64\n",
      " 1   Radio      200 non-null    float64\n",
      " 2   Newspaper  200 non-null    float64\n",
      " 3   Sales      200 non-null    float64\n",
      "dtypes: float64(4)\n",
      "memory usage: 6.4 KB\n",
      "None\n",
      "      TV  Radio  Newspaper  Sales\n",
      "0  230.1   37.8       69.2   22.1\n",
      "1   44.5   39.3       45.1   10.4\n",
      "2   17.2   45.9       69.3   12.0\n",
      "3  151.5   41.3       58.5   16.5\n",
      "4  180.8   10.8       58.4   17.9\n"
     ]
    }
   ],
   "source": [
    "#1.Doc du lieu tu dataset quang cao\n",
    "#Doc du lieu tu csv\n",
    "df=pd.read_csv(r\"D:\\HocKy3_2024_2025\\KhoaHocDuLieu\\BaiTapNop\\HaHuyNam_K215480106063_KhoaHocDuLieu_21_04_2025\\DuDoanDoanhSoBanHang\\advertising.csv\")\n",
    "#Kiem tra thong tin du lieu\n",
    "#Kiem tra gia tri thieu\n",
    "print(df.info())\n",
    "#Kiem tra 5 dong dau\n",
    "print(df.head())"
   ]
  },
  {
   "cell_type": "code",
   "execution_count": 25,
   "id": "df809086",
   "metadata": {},
   "outputs": [
    {
     "name": "stdout",
     "output_type": "stream",
     "text": [
      "Requirement already satisfied: scikit-learn in d:\\hocky3_2024_2025\\khoahocdulieu\\baitapnop\\hahuynam_k215480106063_khoahocdulieu_21_04_2025\\.venv\\lib\\site-packages (1.6.1)\n",
      "Requirement already satisfied: numpy>=1.19.5 in d:\\hocky3_2024_2025\\khoahocdulieu\\baitapnop\\hahuynam_k215480106063_khoahocdulieu_21_04_2025\\.venv\\lib\\site-packages (from scikit-learn) (2.0.2)\n",
      "Requirement already satisfied: scipy>=1.6.0 in d:\\hocky3_2024_2025\\khoahocdulieu\\baitapnop\\hahuynam_k215480106063_khoahocdulieu_21_04_2025\\.venv\\lib\\site-packages (from scikit-learn) (1.13.1)\n",
      "Requirement already satisfied: joblib>=1.2.0 in d:\\hocky3_2024_2025\\khoahocdulieu\\baitapnop\\hahuynam_k215480106063_khoahocdulieu_21_04_2025\\.venv\\lib\\site-packages (from scikit-learn) (1.4.2)\n",
      "Requirement already satisfied: threadpoolctl>=3.1.0 in d:\\hocky3_2024_2025\\khoahocdulieu\\baitapnop\\hahuynam_k215480106063_khoahocdulieu_21_04_2025\\.venv\\lib\\site-packages (from scikit-learn) (3.6.0)\n",
      "Note: you may need to restart the kernel to use updated packages.\n",
      "So luong mau train: 160\n",
      "So luong mau test: 40\n"
     ]
    }
   ],
   "source": [
    "#2.Buoc tien xu ly du lieu: kiem soat cac gia tri thieu, tach thanh tap train-80,test-20\n",
    "%pip install scikit-learn\n",
    "from sklearn.model_selection import train_test_split\n",
    "from sklearn.impute import SimpleImputer\n",
    "#Chon cac dac trung dau vao\n",
    "X=df[[\"TV\",\"Radio\",\"Newspaper\"]]\n",
    "y=df[\"Sales\"]\n",
    "#Xu ly cac gia tri thieu neu co\n",
    "imputer=SimpleImputer(strategy=\"mean\")\n",
    "X=imputer.fit_transform(X)\n",
    "#Chia du lieu thanh train va test\n",
    "X_train,X_test,y_train,y_test=train_test_split(X,y,test_size=0.2,random_state=42)\n",
    "print(\"So luong mau train:\",len(X_train))\n",
    "print(\"So luong mau test:\",len(X_test))"
   ]
  },
  {
   "cell_type": "code",
   "execution_count": 26,
   "id": "9ad1badc",
   "metadata": {},
   "outputs": [],
   "source": [
    "#3.Huan luyen mo hinh LinearRegression\n",
    "#Tao mo hinh LR\n",
    "from sklearn.linear_model import LinearRegression\n",
    "LR=LinearRegression()\n",
    "#Huan luyen mo hinh tren tap train\n",
    "LR.fit(X_train,y_train)\n",
    "#Du doan tren tap test\n",
    "y_predict_LR=LR.predict(X_test)"
   ]
  },
  {
   "cell_type": "code",
   "execution_count": 27,
   "id": "50b3171b",
   "metadata": {},
   "outputs": [],
   "source": [
    "#4.Huan luyen mo hinh voi RidgeRegression, voi alpha=1.0 \n",
    "from sklearn.linear_model import Ridge\n",
    "#Khoi tao mo hinh Ridge voi alpha=1.0\n",
    "RR=Ridge(alpha=1.0)\n",
    "#Huan luyen mo hinh tren tap train\n",
    "RR.fit(X_train,y_train)\n",
    "#Du doan tren tap test\n",
    "y_predict_RR=RR.predict(X_test)"
   ]
  },
  {
   "cell_type": "code",
   "execution_count": null,
   "id": "dd328f04",
   "metadata": {},
   "outputs": [
    {
     "name": "stdout",
     "output_type": "stream",
     "text": [
      "Linear Regression - R²: 0.9059011844150826, RMSE: 1.7052146229349232\n",
      "Ridge Regression - R²: 0.9058999159458062, RMSE: 1.7052261161989768\n",
      "He soc cua Linear Regression: [0.05450927 0.10094536 0.00433665]\n",
      "He so cua Ridge Regression: [0.05450925 0.100942   0.00433753]\n"
     ]
    }
   ],
   "source": [
    "#5.Danh gia mo hinh\n",
    "#Tinh toan R^2 va RMSE cho 2 mo hinh tren\n",
    "from sklearn.metrics import r2_score, mean_squared_error\n",
    "import numpy as np\n",
    "# Danh gia Linear Regression\n",
    "r2_lin = r2_score(y_test, y_predict_LR)\n",
    "rmse_lin = np.sqrt(mean_squared_error(y_test, y_predict_LR))\n",
    "# Danh gia Ridge Regression\n",
    "r2_ridge = r2_score(y_test, y_predict_RR)\n",
    "rmse_ridge = np.sqrt(mean_squared_error(y_test, y_predict_RR))\n",
    "print(f\"Linear Regression - R²: {r2_lin}, RMSE: {rmse_lin}\")\n",
    "print(f\"Ridge Regression - R²: {r2_ridge}, RMSE: {rmse_ridge}\")\n",
    "# He so cua Linear Regression\n",
    "print(\"He soc cua Linear Regression:\", LR.coef_)\n",
    "# He so cua Ridge Regression\n",
    "print(\"He so cua Ridge Regression:\", RR.coef_)"
   ]
  },
  {
   "cell_type": "code",
   "execution_count": 32,
   "id": "8e02333b",
   "metadata": {},
   "outputs": [
    {
     "name": "stdout",
     "output_type": "stream",
     "text": [
      "        TV  Radio  Newspaper  Sales\n",
      "170   50.0   11.6       18.4    8.4\n",
      "171  164.5   20.9       47.4   17.5\n",
      "172   19.6   20.1       17.0    7.6\n",
      "173  168.4    7.1       12.8   16.7\n",
      "174  222.4    3.4       13.1   16.5\n",
      "        TV  Radio  Newspaper  Sales  DuDoan_Sales\n",
      "170   50.0   11.6       18.4    8.4      8.690350\n",
      "171  164.5   20.9       47.4   17.5     15.996217\n",
      "172   19.6   20.1       17.0    7.6      7.885233\n",
      "173  168.4    7.1       12.8   16.7     14.665709\n",
      "174  222.4    3.4       13.1   16.5     17.237013\n"
     ]
    },
    {
     "name": "stderr",
     "output_type": "stream",
     "text": [
      "d:\\HocKy3_2024_2025\\KhoaHocDuLieu\\BaiTapNop\\HaHuyNam_K215480106063_KhoaHocDuLieu_21_04_2025\\.venv\\lib\\site-packages\\sklearn\\utils\\validation.py:2732: UserWarning: X has feature names, but LinearRegression was fitted without feature names\n",
      "  warnings.warn(\n",
      "C:\\Users\\bayer\\AppData\\Local\\Temp\\ipykernel_19780\\1867908430.py:14: SettingWithCopyWarning: \n",
      "A value is trying to be set on a copy of a slice from a DataFrame.\n",
      "Try using .loc[row_indexer,col_indexer] = value instead\n",
      "\n",
      "See the caveats in the documentation: https://pandas.pydata.org/pandas-docs/stable/user_guide/indexing.html#returning-a-view-versus-a-copy\n",
      "  df_MonthData[\"DuDoan_Sales\"] = du_doan_linear\n"
     ]
    }
   ],
   "source": [
    "#6.Kiem thu kha nang du doan cua mo hinh\n",
    "#Trich xuat du lieu theo thang trong dataset\n",
    "import pandas as pd\n",
    "df = pd.read_csv(r\"D:\\HocKy3_2024_2025\\KhoaHocDuLieu\\BaiTapNop\\HaHuyNam_K215480106063_KhoaHocDuLieu_21_04_2025\\DuDoanDoanhSoBanHang\\advertising.csv\")\n",
    "#Lay 30 dong cuoi dataset\n",
    "df_MonthData = df.tail(30) \n",
    "print(df_MonthData.head())\n",
    "#Du doan doanh so \n",
    "# Lay dac trung dau vao (TV, Radio, Newspaper)\n",
    "X_moi = df_MonthData[[\"TV\", \"Radio\", \"Newspaper\"]]\n",
    "# Du doan doanh so voi Linear Regression\n",
    "du_doan_linear = LR.predict(X_moi)\n",
    "# Them ket qua du doan vao DataFrame\n",
    "df_MonthData[\"DuDoan_Sales\"] = du_doan_linear\n",
    "# Hien thi du lieu da du doan\n",
    "print(df_MonthData[[\"TV\", \"Radio\", \"Newspaper\", \"Sales\", \"DuDoan_Sales\"]].head())"
   ]
  },
  {
   "cell_type": "code",
   "execution_count": 33,
   "id": "d1d2a228",
   "metadata": {},
   "outputs": [
    {
     "name": "stdout",
     "output_type": "stream",
     "text": [
      "Collecting matplotlib\n",
      "  Using cached matplotlib-3.9.4-cp39-cp39-win_amd64.whl.metadata (11 kB)\n",
      "Collecting contourpy>=1.0.1 (from matplotlib)\n",
      "  Using cached contourpy-1.3.0-cp39-cp39-win_amd64.whl.metadata (5.4 kB)\n",
      "Collecting cycler>=0.10 (from matplotlib)\n",
      "  Using cached cycler-0.12.1-py3-none-any.whl.metadata (3.8 kB)\n",
      "Collecting fonttools>=4.22.0 (from matplotlib)\n",
      "  Using cached fonttools-4.57.0-cp39-cp39-win_amd64.whl.metadata (104 kB)\n",
      "Collecting kiwisolver>=1.3.1 (from matplotlib)\n",
      "  Using cached kiwisolver-1.4.7-cp39-cp39-win_amd64.whl.metadata (6.4 kB)\n",
      "Requirement already satisfied: numpy>=1.23 in d:\\hocky3_2024_2025\\khoahocdulieu\\baitapnop\\hahuynam_k215480106063_khoahocdulieu_21_04_2025\\.venv\\lib\\site-packages (from matplotlib) (2.0.2)\n",
      "Requirement already satisfied: packaging>=20.0 in d:\\hocky3_2024_2025\\khoahocdulieu\\baitapnop\\hahuynam_k215480106063_khoahocdulieu_21_04_2025\\.venv\\lib\\site-packages (from matplotlib) (25.0)\n",
      "Collecting pillow>=8 (from matplotlib)\n",
      "  Using cached pillow-11.2.1-cp39-cp39-win_amd64.whl.metadata (9.1 kB)\n",
      "Collecting pyparsing>=2.3.1 (from matplotlib)\n",
      "  Using cached pyparsing-3.2.3-py3-none-any.whl.metadata (5.0 kB)\n",
      "Requirement already satisfied: python-dateutil>=2.7 in d:\\hocky3_2024_2025\\khoahocdulieu\\baitapnop\\hahuynam_k215480106063_khoahocdulieu_21_04_2025\\.venv\\lib\\site-packages (from matplotlib) (2.9.0.post0)\n",
      "Collecting importlib-resources>=3.2.0 (from matplotlib)\n",
      "  Using cached importlib_resources-6.5.2-py3-none-any.whl.metadata (3.9 kB)\n",
      "Requirement already satisfied: zipp>=3.1.0 in d:\\hocky3_2024_2025\\khoahocdulieu\\baitapnop\\hahuynam_k215480106063_khoahocdulieu_21_04_2025\\.venv\\lib\\site-packages (from importlib-resources>=3.2.0->matplotlib) (3.21.0)\n",
      "Requirement already satisfied: six>=1.5 in d:\\hocky3_2024_2025\\khoahocdulieu\\baitapnop\\hahuynam_k215480106063_khoahocdulieu_21_04_2025\\.venv\\lib\\site-packages (from python-dateutil>=2.7->matplotlib) (1.17.0)\n",
      "Using cached matplotlib-3.9.4-cp39-cp39-win_amd64.whl (7.8 MB)\n",
      "Using cached contourpy-1.3.0-cp39-cp39-win_amd64.whl (211 kB)\n",
      "Using cached cycler-0.12.1-py3-none-any.whl (8.3 kB)\n",
      "Using cached fonttools-4.57.0-cp39-cp39-win_amd64.whl (2.2 MB)\n",
      "Using cached importlib_resources-6.5.2-py3-none-any.whl (37 kB)\n",
      "Using cached kiwisolver-1.4.7-cp39-cp39-win_amd64.whl (55 kB)\n",
      "Using cached pillow-11.2.1-cp39-cp39-win_amd64.whl (2.7 MB)\n",
      "Using cached pyparsing-3.2.3-py3-none-any.whl (111 kB)\n",
      "Installing collected packages: pyparsing, pillow, kiwisolver, importlib-resources, fonttools, cycler, contourpy, matplotlib\n",
      "Successfully installed contourpy-1.3.0 cycler-0.12.1 fonttools-4.57.0 importlib-resources-6.5.2 kiwisolver-1.4.7 matplotlib-3.9.4 pillow-11.2.1 pyparsing-3.2.3\n",
      "Note: you may need to restart the kernel to use updated packages.\n"
     ]
    },
    {
     "data": {
      "image/png": "[encoded data removed]",
      "text/plain": [
       "<Figure size 1000x500 with 1 Axes>"
      ]
     },
     "metadata": {},
     "output_type": "display_data"
    }
   ],
   "source": [
    "#7.Truc quan hoa ket qua du doan bang bieu do\n",
    "%pip install matplotlib\n",
    "import matplotlib.pyplot as plt\n",
    "import numpy as np\n",
    "bar_width = 0.35\n",
    "index = np.arange(len(df_MonthData))\n",
    "plt.figure(figsize=(10, 5))\n",
    "plt.bar(index, df_MonthData[\"Sales\"], bar_width, label=\"Thực tế\")\n",
    "plt.bar(index + bar_width, df_MonthData[\"DuDoan_Sales\"], bar_width, label=\"Dự đoán\")\n",
    "plt.xlabel(\"Tháng\")\n",
    "plt.ylabel(\"Doanh số\")\n",
    "plt.title(\"So sánh Doanh số Thực tế và Dự đoán\")\n",
    "plt.xticks(index + bar_width / 2, df_MonthData.index)\n",
    "plt.legend()\n",
    "plt.tight_layout()\n",
    "plt.show()"
   ]
  }
 ],
 "metadata": {
  "kernelspec": {
   "display_name": ".venv",
   "language": "python",
   "name": "python3"
  },
  "language_info": {
   "codemirror_mode": {
    "name": "ipython",
    "version": 3
   },
   "file_extension": ".py",
   "mimetype": "text/x-python",
   "name": "python",
   "nbconvert_exporter": "python",
   "pygments_lexer": "ipython3",
   "version": "3.9.13"
  }
 },
 "nbformat": 4,
 "nbformat_minor": 5
}
