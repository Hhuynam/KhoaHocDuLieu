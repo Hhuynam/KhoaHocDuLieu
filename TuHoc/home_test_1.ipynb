{
 "cells": [
  {
   "cell_type": "code",
   "execution_count": null,
   "metadata": {},
   "outputs": [
    {
     "name": "stdout",
     "output_type": "stream",
     "text": [
      "    Tên  Tuổi    Thành phố  Điểm\n",
      "0    An    23       Hà Nội    89\n",
      "1  Bình    25      Đà Nẵng    92\n",
      "2   Chi    22  Hồ Chí Minh    78\n",
      "3  Dũng    24       Hà Nội    95\n",
      "4    Hà    23       Hà Nội    88\n"
     ]
    }
   ],
   "source": [
    "import pandas as pd\n",
    "# Tạo DataFrame mẫu\n",
    "data = {\n",
    "    \"Tên\": [\"An\", \"Bình\", \"Chi\", \"Dũng\", \"Hà\"],\n",
    "    \"Tuổi\": [23, 25, 22, 24, 23],\n",
    "    \"Thành phố\": [\"Hà Nội\", \"Đà Nẵng\", \"Hồ Chí Minh\", \"Hà Nội\", \"Hà Nội\"],\n",
    "    \"Điểm\": [89, 92, 78, 95, 88]\n",
    "}\n",
    "df = pd.DataFrame(data)\n",
    "print(df)"
   ]
  },
  {
   "cell_type": "code",
   "execution_count": null,
   "metadata": {},
   "outputs": [],
   "source": []
  }
 ],
 "metadata": {
  "kernelspec": {
   "display_name": ".venv",
   "language": "python",
   "name": "python3"
  },
  "language_info": {
   "codemirror_mode": {
    "name": "ipython",
    "version": 3
   },
   "file_extension": ".py",
   "mimetype": "text/x-python",
   "name": "python",
   "nbconvert_exporter": "python",
   "pygments_lexer": "ipython3",
   "version": "3.9.13"
  }
 },
 "nbformat": 4,
 "nbformat_minor": 2
}
